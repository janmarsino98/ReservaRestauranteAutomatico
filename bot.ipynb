{
 "cells": [
  {
   "cell_type": "code",
   "execution_count": 3,
   "metadata": {},
   "outputs": [],
   "source": [
    "# IMPORTS\n",
    "from selenium import webdriver\n",
    "from selenium.webdriver.chrome.service import Service\n",
    "from webdriver_manager.chrome import ChromeDriverManager\n",
    "from selenium.webdriver.chrome.options import Options\n",
    "import time\n",
    "from selenium.webdriver.common.by import By\n",
    "import pandas as pd\n",
    "from selenium.webdriver.support.ui import WebDriverWait\n",
    "from selenium.webdriver.support import expected_conditions as EC\n",
    "import random\n",
    "import re"
   ]
  },
  {
   "cell_type": "code",
   "execution_count": 4,
   "metadata": {},
   "outputs": [],
   "source": [
    "\n",
    "options = Options()\n",
    "options.binary_location = r'C:\\Program Files\\BraveSoftware\\Brave-Browser\\Application\\brave.exe'\n",
    "options.add_argument(\"--incognito\")\n",
    "service = Service(ChromeDriverManager().install())\n",
    "driver = webdriver.Chrome(service=service, options=options)\n"
   ]
  },
  {
   "cell_type": "code",
   "execution_count": 5,
   "metadata": {},
   "outputs": [],
   "source": [
    "driver.get(\"https://www.sevenrooms.com/reservations/asadoretxebarri\")\n"
   ]
  },
  {
   "cell_type": "code",
   "execution_count": 6,
   "metadata": {},
   "outputs": [],
   "source": [
    "def select_month(month, year, day):\n",
    "    current_date = \"\"\n",
    "    next_date_btn = WebDriverWait(driver, 10).until(\n",
    "            EC.presence_of_element_located((By.XPATH, \"//button[@aria-label='increment month']\"))\n",
    "        )\n",
    "    while current_date != month + \" \" + year:\n",
    "        next_date_btn.click()\n",
    "        current_date = driver.find_element(By.XPATH, \"//button[@aria-label='increment month']/preceding-sibling::div[1]/span\").text\n",
    "        time.sleep(0.2)\n",
    "        \n",
    "    time.sleep(2)\n",
    "    driver.find_element(By.XPATH, f\"//td[text()={day}]\").click()\n",
    "    \n",
    "select_month(\"agosto\", \"2024\", \"08\")"
   ]
  },
  {
   "cell_type": "code",
   "execution_count": 15,
   "metadata": {},
   "outputs": [],
   "source": [
    "def select_comensals(comensals):\n",
    "    curr_hour = driver.find_element(By.XPATH, \"//span[@aria-label='Comensales']\")\n",
    "    driver.execute_script(\"arguments[0].click()\", curr_hour)\n",
    "    desired_hour_option = driver.find_element(By.XPATH, f\"//button[text()='{comensals}']\")\n",
    "    desired_hour_option.click()\n",
    "    \n",
    "select_comensals(8)"
   ]
  },
  {
   "cell_type": "code",
   "execution_count": 20,
   "metadata": {},
   "outputs": [],
   "source": [
    "def select_hora(hour):\n",
    "    curr_hour = driver.find_element(By.XPATH, \"//span[@aria-label='Hora']\")\n",
    "    driver.execute_script(\"arguments[0].click()\", curr_hour)\n",
    "    desired_hour_option = driver.find_element(By.XPATH, f\"//button[text()='{hour}']\")\n",
    "    desired_hour_option.click()\n",
    "    \n",
    "select_hora(\"14:30\")"
   ]
  },
  {
   "cell_type": "code",
   "execution_count": 9,
   "metadata": {},
   "outputs": [],
   "source": [
    "def buscar():\n",
    "    btn_buscar = driver.find_element(By.XPATH, \"//button[text()='Buscar']\")\n",
    "    btn_buscar.click()\n",
    "    \n",
    "buscar()"
   ]
  },
  {
   "cell_type": "code",
   "execution_count": 10,
   "metadata": {},
   "outputs": [
    {
     "ename": "KeyboardInterrupt",
     "evalue": "",
     "output_type": "error",
     "traceback": [
      "\u001b[1;31m---------------------------------------------------------------------------\u001b[0m",
      "\u001b[1;31mKeyboardInterrupt\u001b[0m                         Traceback (most recent call last)",
      "Input \u001b[1;32mIn [10]\u001b[0m, in \u001b[0;36m<cell line: 34>\u001b[1;34m()\u001b[0m\n\u001b[0;32m     31\u001b[0m     presentar_solicitud_btn \u001b[38;5;241m=\u001b[39m driver\u001b[38;5;241m.\u001b[39mfind_element(By\u001b[38;5;241m.\u001b[39mXPATH, \u001b[38;5;124m\"\u001b[39m\u001b[38;5;124m//button[text()=\u001b[39m\u001b[38;5;124m'\u001b[39m\u001b[38;5;124mPresentar una solicitud\u001b[39m\u001b[38;5;124m'\u001b[39m\u001b[38;5;124m]\u001b[39m\u001b[38;5;124m\"\u001b[39m)\n\u001b[0;32m     32\u001b[0m     presentar_solicitud_btn\u001b[38;5;241m.\u001b[39mclick()\n\u001b[1;32m---> 34\u001b[0m \u001b[43mfill_data\u001b[49m\u001b[43m(\u001b[49m\u001b[38;5;124;43m\"\u001b[39;49m\u001b[38;5;124;43mmarc\u001b[39;49m\u001b[38;5;124;43m\"\u001b[39;49m\u001b[43m,\u001b[49m\u001b[43m \u001b[49m\u001b[38;5;124;43m\"\u001b[39;49m\u001b[38;5;124;43mpintor\u001b[39;49m\u001b[38;5;124;43m\"\u001b[39;49m\u001b[43m,\u001b[49m\u001b[43m \u001b[49m\u001b[38;5;124;43m\"\u001b[39;49m\u001b[38;5;124;43mmarcpintor2819@gmail.com\u001b[39;49m\u001b[38;5;124;43m\"\u001b[39;49m\u001b[43m,\u001b[49m\u001b[43m \u001b[49m\u001b[38;5;124;43m\"\u001b[39;49m\u001b[38;5;124;43m658922858\u001b[39;49m\u001b[38;5;124;43m\"\u001b[39;49m\u001b[43m)\u001b[49m\n",
      "Input \u001b[1;32mIn [10]\u001b[0m, in \u001b[0;36mfill_data\u001b[1;34m(name, last_name, email, phone)\u001b[0m\n\u001b[0;32m     21\u001b[0m \u001b[38;5;28;01mfor\u001b[39;00m \u001b[38;5;28mchr\u001b[39m \u001b[38;5;129;01min\u001b[39;00m email:\n\u001b[0;32m     22\u001b[0m     email_field\u001b[38;5;241m.\u001b[39msend_keys(\u001b[38;5;28mchr\u001b[39m)\n\u001b[1;32m---> 23\u001b[0m     \u001b[43mtime\u001b[49m\u001b[38;5;241;43m.\u001b[39;49m\u001b[43msleep\u001b[49m\u001b[43m(\u001b[49m\u001b[43mrandom\u001b[49m\u001b[38;5;241;43m.\u001b[39;49m\u001b[43mrandom\u001b[49m\u001b[43m(\u001b[49m\u001b[43m)\u001b[49m\u001b[38;5;241;43m*\u001b[39;49m\u001b[38;5;241;43m0.15\u001b[39;49m\u001b[43m)\u001b[49m\n\u001b[0;32m     25\u001b[0m phone_field \u001b[38;5;241m=\u001b[39m driver\u001b[38;5;241m.\u001b[39mfind_element(By\u001b[38;5;241m.\u001b[39mXPATH, \u001b[38;5;124m\"\u001b[39m\u001b[38;5;124m//input[@aria-label=\u001b[39m\u001b[38;5;124m'\u001b[39m\u001b[38;5;124mPhone Number\u001b[39m\u001b[38;5;124m'\u001b[39m\u001b[38;5;124m]\u001b[39m\u001b[38;5;124m\"\u001b[39m)\n\u001b[0;32m     26\u001b[0m \u001b[38;5;28;01mfor\u001b[39;00m \u001b[38;5;28mchr\u001b[39m \u001b[38;5;129;01min\u001b[39;00m phone:\n",
      "\u001b[1;31mKeyboardInterrupt\u001b[0m: "
     ]
    }
   ],
   "source": [
    "def fill_data(name, last_name, email, phone):\n",
    "    \n",
    "    WebDriverWait(driver, 10).until(\n",
    "        EC.presence_of_element_located((By.XPATH, \"//div[text()='Envíe una solicitud']\"))\n",
    "    ) \n",
    "    \n",
    "    presentar_solicitud_btn = driver.find_element(By.XPATH, \"//button[text()='Presentar una solicitud']\")\n",
    "    presentar_solicitud_btn.click()\n",
    "    \n",
    "    name_field = driver.find_element(By.XPATH, \"//input[@id='sr-nombre-*']\")\n",
    "    for chr in name:\n",
    "        name_field.send_keys(chr)\n",
    "        time.sleep(random.random()*0.15)\n",
    "        \n",
    "    last_name_field = driver.find_element(By.XPATH, \"//input[@id='sr-apellido-*']\")\n",
    "    for chr in last_name:\n",
    "        last_name_field.send_keys(chr)\n",
    "        time.sleep(random.random()*0.15)\n",
    "        \n",
    "    email_field = driver.find_element(By.XPATH, \"//input[@id='sr-dirección-de correo electrónico *']\")\n",
    "    for chr in email:\n",
    "        email_field.send_keys(chr)\n",
    "        time.sleep(random.random()*0.15)\n",
    "        \n",
    "    phone_field = driver.find_element(By.XPATH, \"//input[@aria-label='Phone Number']\")\n",
    "    for chr in phone:\n",
    "        phone_field.send_keys(chr)\n",
    "        time.sleep(random.random()*0.15)\n",
    "    \n",
    "    time.sleep(5)\n",
    "    presentar_solicitud_btn = driver.find_element(By.XPATH, \"//button[text()='Presentar una solicitud']\")\n",
    "    presentar_solicitud_btn.click()\n",
    "    \n",
    "fill_data(\"marc\", \"pintor\", \"marcpintor2819@gmail.com\", \"658922858\")"
   ]
  },
  {
   "cell_type": "code",
   "execution_count": null,
   "metadata": {},
   "outputs": [],
   "source": [
    "import re\n",
    "\n",
    "s = \"fwqioejfoiqw opacity: 0.5 oiafjiowejfio\"\n",
    "p = \"^.*opacity: 0.5.*$\""
   ]
  }
 ],
 "metadata": {
  "kernelspec": {
   "display_name": "Python 3",
   "language": "python",
   "name": "python3"
  },
  "language_info": {
   "codemirror_mode": {
    "name": "ipython",
    "version": 3
   },
   "file_extension": ".py",
   "mimetype": "text/x-python",
   "name": "python",
   "nbconvert_exporter": "python",
   "pygments_lexer": "ipython3",
   "version": "3.10.5"
  }
 },
 "nbformat": 4,
 "nbformat_minor": 2
}
