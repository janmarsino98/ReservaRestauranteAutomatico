{
 "cells": [
  {
   "cell_type": "code",
   "execution_count": 102,
   "metadata": {},
   "outputs": [],
   "source": [
    "# IMPORTS\n",
    "from selenium import webdriver\n",
    "from selenium.webdriver.chrome.service import Service\n",
    "from webdriver_manager.chrome import ChromeDriverManager\n",
    "from selenium.webdriver.chrome.options import Options\n",
    "import time\n",
    "from selenium.webdriver.common.by import By\n",
    "import pandas as pd\n",
    "from selenium.webdriver.support.ui import WebDriverWait\n",
    "from selenium.webdriver.support import expected_conditions as EC\n",
    "import random\n",
    "import re"
   ]
  },
  {
   "cell_type": "code",
   "execution_count": 103,
   "metadata": {},
   "outputs": [],
   "source": [
    "\n",
    "options = Options()\n",
    "options.binary_location = r'C:\\Program Files\\BraveSoftware\\Brave-Browser\\Application\\brave.exe'\n",
    "options.add_argument(\"--incognito\")\n",
    "service = Service(ChromeDriverManager().install())\n",
    "driver = webdriver.Chrome(service=service, options=options)\n"
   ]
  },
  {
   "cell_type": "code",
   "execution_count": 104,
   "metadata": {},
   "outputs": [],
   "source": [
    "driver.get(\"https://www.sevenrooms.com/reservations/asadoretxebarri\")\n"
   ]
  },
  {
   "cell_type": "code",
   "execution_count": 105,
   "metadata": {},
   "outputs": [],
   "source": [
    "def select_month(month, year, day):\n",
    "    current_date = \"\"\n",
    "    next_date_btn = WebDriverWait(driver, 10).until(\n",
    "            EC.presence_of_element_located((By.XPATH, \"//button[@aria-label='increment month']\"))\n",
    "        )\n",
    "    while current_date != month + \" \" + year:\n",
    "        next_date_btn.click()\n",
    "        current_date = driver.find_element(By.XPATH, \"//button[@aria-label='increment month']/preceding-sibling::div[1]/span\").text\n",
    "        time.sleep(0.2)\n",
    "        \n",
    "    time.sleep(2)\n",
    "    driver.find_element(By.XPATH, f\"//td[text()={day}]\").click()\n",
    "    \n",
    "select_month(\"agosto\", \"2024\", \"08\")"
   ]
  },
  {
   "cell_type": "code",
   "execution_count": 106,
   "metadata": {},
   "outputs": [
    {
     "name": "stdout",
     "output_type": "stream",
     "text": [
      "Comensales listos\n"
     ]
    }
   ],
   "source": [
    "def select_comensals(comensals):\n",
    "    \n",
    "    current_comensals = \"\"\n",
    "    next_comensals_btn = WebDriverWait(driver, 10).until(\n",
    "        EC.presence_of_element_located((By.XPATH, \"//button[@aria-label='increment Comensales']\"))\n",
    "    )\n",
    "    \n",
    "    \n",
    "    while current_comensals != comensals:\n",
    "        next_comensals_btn.click()\n",
    "        current_comensals = driver.find_element(By.XPATH, \"//button[@aria-label='increment Comensales']/preceding-sibling::div[1]/span\").text\n",
    "        \n",
    "    print(\"Comensales listos\")\n",
    "    \n",
    "select_comensals(\"3\")"
   ]
  },
  {
   "cell_type": "code",
   "execution_count": 107,
   "metadata": {},
   "outputs": [],
   "source": [
    "def select_hora(hour):\n",
    "    curr_hour = \"\"\n",
    "    next_hour_btn = WebDriverWait(driver, 10).until(\n",
    "        EC.presence_of_element_located((By.XPATH, \"//button[@aria-label='increment Hora']\"))\n",
    "    )\n",
    "    \n",
    "    next_hour_btn.click()\n",
    "    curr_hour = driver.find_element(By.XPATH, \"//span[@aria-label='Hora']\")\n",
    "    driver.execute_script(\"arguments[0].click()\", curr_hour)\n",
    "    time.sleep(0.3)\n",
    "    desired_hour_option = driver.find_element(By.XPATH, f\"//button[text()='{hour}']\")\n",
    "    desired_hour_option.click()\n",
    "    \n",
    "select_hora(\"13:30\")"
   ]
  },
  {
   "cell_type": "code",
   "execution_count": 108,
   "metadata": {},
   "outputs": [],
   "source": [
    "def buscar():\n",
    "    btn_buscar = driver.find_element(By.XPATH, \"//button[text()='Buscar']\")\n",
    "    btn_buscar.click()\n",
    "    \n",
    "buscar()"
   ]
  },
  {
   "cell_type": "code",
   "execution_count": 109,
   "metadata": {},
   "outputs": [],
   "source": [
    "def fill_data(name, last_name, email, phone):\n",
    "    \n",
    "    WebDriverWait(driver, 10).until(\n",
    "        EC.presence_of_element_located((By.XPATH, \"//div[text()='Envíe una solicitud']\"))\n",
    "    ) \n",
    "    \n",
    "    presentar_solicitud_btn = driver.find_element(By.XPATH, \"//button[text()='Presentar una solicitud']\")\n",
    "    presentar_solicitud_btn.click()\n",
    "    \n",
    "    name_field = driver.find_element(By.XPATH, \"//input[@id='sr-nombre-*']\")\n",
    "    for chr in name:\n",
    "        name_field.send_keys(chr)\n",
    "        time.sleep(random.random()*0.15)\n",
    "        \n",
    "    last_name_field = driver.find_element(By.XPATH, \"//input[@id='sr-apellido-*']\")\n",
    "    for chr in last_name:\n",
    "        last_name_field.send_keys(chr)\n",
    "        time.sleep(random.random()*0.15)\n",
    "        \n",
    "    email_field = driver.find_element(By.XPATH, \"//input[@id='sr-dirección-de correo electrónico *']\")\n",
    "    for chr in email:\n",
    "        email_field.send_keys(chr)\n",
    "        time.sleep(random.random()*0.15)\n",
    "        \n",
    "    phone_field = driver.find_element(By.XPATH, \"//input[@aria-label='Phone Number']\")\n",
    "    for chr in phone:\n",
    "        phone_field.send_keys(chr)\n",
    "        time.sleep(random.random()*0.15)\n",
    "    \n",
    "    time.sleep(5)\n",
    "    presentar_solicitud_btn = driver.find_element(By.XPATH, \"//button[text()='Presentar una solicitud']\")\n",
    "    presentar_solicitud_btn.click()\n",
    "    \n",
    "fill_data(\"marc\", \"pintor\", \"marcpintor2819@gmail.com\", \"658922858\")"
   ]
  }
 ],
 "metadata": {
  "kernelspec": {
   "display_name": "Python 3",
   "language": "python",
   "name": "python3"
  },
  "language_info": {
   "codemirror_mode": {
    "name": "ipython",
    "version": 3
   },
   "file_extension": ".py",
   "mimetype": "text/x-python",
   "name": "python",
   "nbconvert_exporter": "python",
   "pygments_lexer": "ipython3",
   "version": "3.10.5"
  }
 },
 "nbformat": 4,
 "nbformat_minor": 2
}
